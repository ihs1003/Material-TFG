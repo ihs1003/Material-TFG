{
 "cells": [
  {
   "cell_type": "markdown",
   "id": "57e08f5a",
   "metadata": {},
   "source": [
    "# CREACIÓN DE GRAFOS\n",
    "\n",
    "A continuación se expone la forma en la que se crearon los grafos de conectividad entre electrodos. Para ello, tuvo que realizarse un paso de iteración de creación de archivos .edf sobre los dataloaders originales para poder proseguir con el cálculo de grafos. Por lo tanto, la primera parte de creación de datos .edf puede saltarse si se disponen de datos procesados en archivos .edf"
   ]
  },
  {
   "cell_type": "markdown",
   "id": "667e2753",
   "metadata": {},
   "source": [
    "## Importación de bibliotecas necesarias"
   ]
  },
  {
   "cell_type": "code",
   "execution_count": 5,
   "id": "62193868",
   "metadata": {},
   "outputs": [],
   "source": [
    "import pickle\n",
    "import eegraph\n",
    "import mne\n",
    "import pyedflib\n",
    "import os"
   ]
  },
  {
   "cell_type": "markdown",
   "id": "27e3e86e",
   "metadata": {},
   "source": [
    "## Importación de dataloaders"
   ]
  },
  {
   "cell_type": "code",
   "execution_count": 6,
   "id": "ff66e569",
   "metadata": {},
   "outputs": [],
   "source": [
    "train_loader_file = r'../dataloaders/mean_std_train'\n",
    "val_loader_file = r'../dataloaders/mean_std_val.pkl'\n",
    "\n",
    "with open(train_loader_file, 'rb') as file:\n",
    "    dataloader_train = pickle.load(file)\n",
    "    \n",
    "with open(val_loader_file, 'rb') as file:\n",
    "    dataloader_val = pickle.load(file)\n",
    "\n",
    "for batch in dataloader_train:\n",
    "    sample = batch\n",
    "    break"
   ]
  },
  {
   "cell_type": "markdown",
   "id": "262540aa",
   "metadata": {},
   "source": [
    "## Creación de archivos .edf a partir de los dataloaders"
   ]
  },
  {
   "cell_type": "code",
   "execution_count": null,
   "id": "d7a6136a",
   "metadata": {},
   "outputs": [],
   "source": [
    "#Carpeta de destino\n",
    "folder_path = r'C:\\Users\\hernandez\\Documents\\TFG\\caueeg-dataset\\graph_data'\n",
    "\n",
    "for batch in val_loader:\n",
    "    raw_data = batch['signal'].squeeze()  # Eliminar dimensiones adicionales\n",
    "    n_channels = raw_data.shape[0]\n",
    "    ch_names = [new_channel_names[i] for i in range(n_channels)]\n",
    "    sfreq = 200\n",
    "    info = mne.create_info(ch_names=ch_names, sfreq=sfreq)\n",
    "\n",
    "    # Crear el objeto RawArray con los datos procesados\n",
    "    raw = mne.io.RawArray(raw_data, info)\n",
    "    info = raw.info\n",
    "\n",
    "    montage = mne.channels.make_standard_montage('standard_1020')\n",
    "    raw.set_montage(montage)\n",
    "\n",
    "    serial_number = batch['serial']\n",
    "    file_name = 'signal_{}.fif'.format(serial_number)\n",
    "\n",
    "    # COnfigurar correctamente el nombre del archivo\n",
    "    file_name = file_name.replace('[', '').replace(']', '')\n",
    "    file_name = file_name.replace(\"'\", \"\")\n",
    "\n",
    "    # Obtener la ruta completa del archivo .fif\n",
    "    fif_file_path = os.path.join(folder_path, file_name)\n",
    "\n",
    "    # Guardar el archivo .fif\n",
    "    raw.save(fif_file_path, overwrite=True)\n",
    "\n",
    "    # Convertir el archivo .fif a .edf utilizando pyEDFlib\n",
    "    edf_file_path = fif_file_path.replace('.fif', '.edf')\n",
    "    edf_file_path = edf_file_path.replace(\"'\", \"\")\n",
    "\n",
    "    with pyedflib.EdfWriter(edf_file_path, n_channels) as f:\n",
    "        # Configurar la información de los canales\n",
    "        for i in range(n_channels):\n",
    "            channel_info = {\n",
    "                'label': ch_names[i],\n",
    "                'dimension': 'mV',\n",
    "                'sample_rate': int(sfreq),\n",
    "                'physical_max': raw_data[i].max(),\n",
    "                'physical_min': raw_data[i].min(),\n",
    "                'digital_max': int(raw_data[i].max()),\n",
    "                'digital_min': int(raw_data[i].min())\n",
    "            }\n",
    "            f.setSignalHeader(i, channel_info)\n",
    "\n",
    "        # Obtener los datos del archivo .fif\n",
    "        raw_fif = mne.io.read_raw_fif(fif_file_path)\n",
    "        data = raw_fif.get_data()\n",
    "\n",
    "        # Escribir los datos en el archivo .edf\n",
    "        f.writeSamples(data)\n",
    "\n",
    "    print(f'Conversión completa para {file_name}')\n",
    "\n",
    "    # Eliminar el archivo .fif\n",
    "    os.remove(fif_file_path)"
   ]
  },
  {
   "cell_type": "markdown",
   "id": "dc343b7a",
   "metadata": {},
   "source": [
    "## Ejemplo de creación de grafos\n",
    "Una vez se tiene una carpeta con los archivos .edf creados a partir de los dataloaders, se mostrará cómo crear grafos a través de un archivo de muestra"
   ]
  },
  {
   "cell_type": "code",
   "execution_count": 7,
   "id": "a687fcca",
   "metadata": {},
   "outputs": [],
   "source": [
    "# Carga del archivo muestra\n",
    "sample = '../Muestras/muestra2.edf'"
   ]
  },
  {
   "cell_type": "code",
   "execution_count": 12,
   "id": "f834c8bc",
   "metadata": {},
   "outputs": [
    {
     "name": "stdout",
     "output_type": "stream",
     "text": [
      "Extracting EDF parameters from C:\\Users\\hernandez\\Documents\\TFG\\Untitled Folder\\muestra2.edf...\n",
      "EDF file detected\n",
      "Setting channel info structure...\n",
      "Creating raw.info structure...\n",
      "\n",
      "\u001b[1mEEG Information.\n",
      "\u001b[0mNumber of Channels: 19\n",
      "Sample rate: 200.0 Hz.\n",
      "Duration: 9.995 seconds.\n",
      "Channel Names: ['Fp1', 'F3', 'C3', 'P3', 'O1', 'Fp2', 'F4', 'C4', 'P4', 'O2', 'F7', 'T3', 'T5', 'F8', 'T4', 'T6', 'Fz', 'Cz', 'Pz']\n"
     ]
    }
   ],
   "source": [
    "#Creación de grafo vacío y carga de datos del archivo .edf en él\n",
    "G = eegraph.Graph()\n",
    "G.load_data(path=sample)"
   ]
  },
  {
   "cell_type": "code",
   "execution_count": 13,
   "id": "bd0d2e12",
   "metadata": {},
   "outputs": [
    {
     "name": "stdout",
     "output_type": "stream",
     "text": [
      "\u001b[1mModel Data.\u001b[0m\n",
      "Pearson_correlation_Estimator()\n",
      "Intervals:  [(0, 400.0), (400.0, 800.0), (800.0, 1200.0), (1200.0, 1600.0), (1600.0, 1999.0)]\n",
      "\n",
      "Threshold: 0.5\n",
      "Number of graphs created: 5\n"
     ]
    }
   ],
   "source": [
    "window = 2 #Tamaño de ventana\n",
    "connectivity_measure = 'pearson_correlation' # Se eligió calcular la conectividad por el coeficiente de Pearson\n",
    "\n",
    "graphs, connectivity_matrix = G.modelate(window_size = window, connectivity = connectivity_measure, threshold=0.5)"
   ]
  },
  {
   "cell_type": "code",
   "execution_count": 16,
   "id": "34a81146",
   "metadata": {},
   "outputs": [],
   "source": [
    "#Visualización de los grafos creados\n",
    "G.visualize_html(graphs[0], 'graph1')"
   ]
  }
 ],
 "metadata": {
  "kernelspec": {
   "display_name": "tensorflow",
   "language": "python",
   "name": "tensorflow"
  },
  "language_info": {
   "codemirror_mode": {
    "name": "ipython",
    "version": 3
   },
   "file_extension": ".py",
   "mimetype": "text/x-python",
   "name": "python",
   "nbconvert_exporter": "python",
   "pygments_lexer": "ipython3",
   "version": "3.9.16"
  }
 },
 "nbformat": 4,
 "nbformat_minor": 5
}
