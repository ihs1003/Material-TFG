{
 "cells": [
  {
   "cell_type": "markdown",
   "id": "e37754e3",
   "metadata": {},
   "source": [
    "## Importación y carga de dataloaders"
   ]
  },
  {
   "cell_type": "code",
   "execution_count": 1,
   "id": "99fed70a",
   "metadata": {},
   "outputs": [
    {
     "name": "stdout",
     "output_type": "stream",
     "text": [
      "cuda:0\n"
     ]
    }
   ],
   "source": [
    "import pickle\n",
    "import glob\n",
    "import torch\n",
    "from torch.utils.data import DataLoader, Dataset\n",
    "from eeg_fConn import connectivity as con\n",
    "import torch.nn.functional as F\n",
    "import torch.nn as nn\n",
    "import torch.optim as optim\n",
    "\n",
    "\n",
    "device = torch.device(\"cuda:0\" if torch.cuda.is_available() else \"cpu\")\n",
    "print(device)\n",
    "\n",
    "class ConnectivityDataset(Dataset):\n",
    "    def __init__(self, original_dataloader, f_min, f_max, fs, sensors):\n",
    "        self.original_dataloader = original_dataloader\n",
    "        self.f_min = f_min\n",
    "        self.f_max = f_max\n",
    "        self.fs = fs\n",
    "        self.sensors = sensors\n",
    "        self.pli = [] \n",
    "        self.plv = []  \n",
    "        self.ccf = []  \n",
    "        self.coh = []  \n",
    "        self.labels = []  \n",
    "        self.ages = []\n",
    "\n",
    "        for batch in original_dataloader:\n",
    "            signal = batch['signal'].squeeze().cpu()\n",
    "            label = batch['class_label'].squeeze(dim=0).cpu()\n",
    "            age = batch['age'].squeeze(dim=0).cpu()\n",
    "            \n",
    "            filtered_data = con.filteration(data=signal, f_min=f_min, f_max=f_max, fs=fs)\n",
    "            Mi, _ = con.pli_connectivity(sensors, data=filtered_data)\n",
    "            self.pli.append(Mi)\n",
    "            Mv, _ = con.plv_connectivity(sensors, data=filtered_data)\n",
    "            self.plv.append(Mv)\n",
    "            Mf, _ = con.ccf_connectivity(sensors, data=filtered_data)\n",
    "            self.ccf.append(Mf)\n",
    "            Mh, _ = con.coh_connectivity(sensors, data=signal, f_min=f_min, f_max=f_max, fs=fs)\n",
    "            \n",
    "            self.coh.append(Mh)\n",
    "            self.labels.append(label)\n",
    "            self.ages.append(age)\n",
    "\n",
    "    def __len__(self):\n",
    "        return len(self.original_dataloader)\n",
    "\n",
    "    def __getitem__(self, index):\n",
    "        pli_matrix = self.pli[index]\n",
    "        plv_matrix = self.plv[index]\n",
    "        ccf_matrix = self.ccf[index]\n",
    "        coh_matrix = self.coh[index]\n",
    "        label = self.labels[index]\n",
    "        age = self.ages[index]\n",
    "\n",
    "        pli_matrix = torch.tensor(pli_matrix)\n",
    "        plv_matrix = torch.tensor(plv_matrix)\n",
    "        ccf_matrix = torch.tensor(ccf_matrix)\n",
    "        coh_matrix = torch.tensor(coh_matrix)\n",
    "        label = torch.tensor(label)\n",
    "        age = torch.tensor(age)\n",
    "\n",
    "        return {'pli': pli_matrix, 'plv': plv_matrix, 'ccf': ccf_matrix, 'coh': coh_matrix, 'label': label, 'age': age}\n",
    "\n",
    "# Dataloader de entrenamiento\n",
    "with open('../dataloaders/con_dataloader_train.pkl', 'rb') as file:\n",
    "    dataloader = pickle.load(file)\n",
    "    \n",
    "# Dataloader de validación    \n",
    "with open('../dataloaders/con_dataloader_val.pkl', 'rb') as file:\n",
    "    dataloader_val = pickle.load(file)\n"
   ]
  },
  {
   "cell_type": "markdown",
   "id": "5fa7a261",
   "metadata": {},
   "source": [
    "# Construcción modelo LSTM \n",
    "\n",
    "Se construyó un modelo tipo LSTM para probar su eficacia en este tipo de datos. Se implementaron también distintos bloques para el aumento de la profundidad del modelo."
   ]
  },
  {
   "cell_type": "code",
   "execution_count": 4,
   "id": "b43d7953",
   "metadata": {},
   "outputs": [
    {
     "name": "stdout",
     "output_type": "stream",
     "text": [
      "StackedLSTM(\n",
      "  (bottleneck): Bottleneck(\n",
      "    (fc1): Linear(in_features=19, out_features=64, bias=True)\n",
      "    (activation1): ReLU()\n",
      "    (fc2): Linear(in_features=64, out_features=64, bias=True)\n",
      "    (activation2): ReLU()\n",
      "  )\n",
      "  (lstms): ModuleList(\n",
      "    (0): LSTM(64, 128, batch_first=True, bidirectional=True)\n",
      "    (1): Dropout(p=0.5, inplace=False)\n",
      "    (2): LSTM(256, 128, batch_first=True, bidirectional=True)\n",
      "    (3): Dropout(p=0.5, inplace=False)\n",
      "  )\n",
      "  (fc): Linear(in_features=256, out_features=3, bias=True)\n",
      ")\n"
     ]
    }
   ],
   "source": [
    "class Bottleneck(nn.Module):\n",
    "    def __init__(self, input_size, bottleneck_size):\n",
    "        super(Bottleneck, self).__init__()\n",
    "        self.fc1 = nn.Linear(input_size, bottleneck_size)\n",
    "        self.activation1 = nn.ReLU()\n",
    "        self.fc2 = nn.Linear(bottleneck_size, bottleneck_size)\n",
    "        self.activation2 = nn.ReLU()\n",
    "\n",
    "    def forward(self, x):\n",
    "        x = self.fc1(x)\n",
    "        x = self.activation1(x)\n",
    "        x = self.fc2(x)\n",
    "        x = self.activation2(x)\n",
    "        return x\n",
    "\n",
    "\n",
    "class StackedLSTM(nn.Module):\n",
    "    def __init__(self, input_size, hidden_size, layer_size, bottleneck_size, output_size, bidirectional=True, dropout=0.5):\n",
    "        super(StackedLSTM, self).__init__()\n",
    "\n",
    "        self.input_size = input_size\n",
    "        self.hidden_size = hidden_size\n",
    "        self.layer_size = layer_size\n",
    "        self.bottleneck_size = bottleneck_size\n",
    "        self.output_size = output_size\n",
    "        self.bidirectional = bidirectional\n",
    "        self.dropout = dropout\n",
    "        \n",
    "        self.bottleneck = Bottleneck(input_size, bottleneck_size)\n",
    "\n",
    "        self.lstms = nn.ModuleList()\n",
    "        for i in range(layer_size):\n",
    "            if i == 0:\n",
    "                input_dim = bottleneck_size\n",
    "            else:\n",
    "                input_dim = hidden_size * 2 if bidirectional else hidden_size\n",
    "            lstm = nn.LSTM(input_dim, hidden_size, 1, batch_first=True, bidirectional=bidirectional)\n",
    "            self.lstms.append(lstm)\n",
    "            self.lstms.append(nn.Dropout(dropout))\n",
    "\n",
    "        if bidirectional:\n",
    "            self.fc = nn.Linear(hidden_size * 2, output_size)\n",
    "        else:\n",
    "            self.fc = nn.Linear(hidden_size, output_size)\n",
    "\n",
    "    def forward(self, label_ts):\n",
    "        batch_size = label_ts.size(0)\n",
    "\n",
    "        label_ts = label_ts.view(batch_size, -1, self.input_size)\n",
    "\n",
    "        label_ts = self.bottleneck(label_ts)\n",
    "\n",
    "        hidden_states = []\n",
    "        cell_states = []\n",
    "        for i in range(self.layer_size):\n",
    "            if self.bidirectional:\n",
    "                hidden_state = torch.zeros(2, batch_size, self.hidden_size).to(label_ts.device)\n",
    "                cell_state = torch.zeros(2, batch_size, self.hidden_size).to(label_ts.device)\n",
    "            else:\n",
    "                hidden_state = torch.zeros(1, batch_size, self.hidden_size).to(label_ts.device)\n",
    "                cell_state = torch.zeros(1, batch_size, self.hidden_size).to(label_ts.device)\n",
    "            hidden_states.append(hidden_state)\n",
    "            cell_states.append(cell_state)\n",
    "\n",
    "        output = label_ts\n",
    "        for i in range(self.layer_size):\n",
    "            lstm = self.lstms[i * 2] \n",
    "            dropout = self.lstms[i * 2 + 1]\n",
    "            output, (hidden_state, cell_state) = lstm(output, (hidden_states[i], cell_states[i]))\n",
    "            output = dropout(output)\n",
    "            hidden_states[i] = hidden_state\n",
    "\n",
    "        output = output[:, -1, :]\n",
    "        output = self.fc(output)\n",
    "\n",
    "        return output\n",
    "\n",
    "\n",
    "#=========================================INSTANCIA DEL MODELO========================================\n",
    "\n",
    "input_size = 19 \n",
    "hidden_size = 128\n",
    "output_size = 3\n",
    "bottleneck_size = 64\n",
    "layer_size = 2\n",
    "dropout = 0.5\n",
    "\n",
    "model = StackedLSTM(input_size, hidden_size, layer_size, bottleneck_size, output_size, dropout=dropout)\n",
    "model.to(device)\n",
    "\n",
    "criterion = nn.CrossEntropyLoss()\n",
    "\n",
    "learning_rate = 0.001\n",
    "optimizer = optim.Adam(model.parameters(), lr=learning_rate)\n",
    "print(model)"
   ]
  },
  {
   "cell_type": "markdown",
   "id": "bf849091",
   "metadata": {},
   "source": [
    "## Entrenamiento y evaluación del modelo"
   ]
  },
  {
   "cell_type": "code",
   "execution_count": 5,
   "id": "1081b062",
   "metadata": {
    "scrolled": true
   },
   "outputs": [
    {
     "name": "stdout",
     "output_type": "stream",
     "text": [
      "\n",
      "Epoch: 1\n"
     ]
    },
    {
     "name": "stderr",
     "output_type": "stream",
     "text": [
      "  0%|                                                                                          | 0/950 [00:00<?, ?it/s]C:\\Users\\hernandez\\AppData\\Local\\Temp\\ipykernel_4912\\114427283.py:61: UserWarning: To copy construct from a tensor, it is recommended to use sourceTensor.clone().detach() or sourceTensor.clone().detach().requires_grad_(True), rather than torch.tensor(sourceTensor).\n",
      "  label = torch.tensor(label)\n",
      "C:\\Users\\hernandez\\AppData\\Local\\Temp\\ipykernel_4912\\114427283.py:62: UserWarning: To copy construct from a tensor, it is recommended to use sourceTensor.clone().detach() or sourceTensor.clone().detach().requires_grad_(True), rather than torch.tensor(sourceTensor).\n",
      "  age = torch.tensor(age)\n",
      "100%|███████████████████████████████████████████████████████████████████████████████| 950/950 [00:05<00:00, 164.45it/s]\n"
     ]
    },
    {
     "name": "stdout",
     "output_type": "stream",
     "text": [
      "Train Loss: 1.097 | Accuracy: 36.316\n"
     ]
    },
    {
     "name": "stderr",
     "output_type": "stream",
     "text": [
      "100%|███████████████████████████████████████████████████████████████████████████████| 119/119 [00:00<00:00, 481.96it/s]\n"
     ]
    },
    {
     "name": "stdout",
     "output_type": "stream",
     "text": [
      "Test Loss: 1.086 | Accuracy: 38.655\n",
      "\n",
      "Epoch: 2\n"
     ]
    },
    {
     "name": "stderr",
     "output_type": "stream",
     "text": [
      "100%|███████████████████████████████████████████████████████████████████████████████| 950/950 [00:05<00:00, 170.80it/s]\n"
     ]
    },
    {
     "name": "stdout",
     "output_type": "stream",
     "text": [
      "Train Loss: 1.094 | Accuracy: 35.368\n"
     ]
    },
    {
     "name": "stderr",
     "output_type": "stream",
     "text": [
      "100%|███████████████████████████████████████████████████████████████████████████████| 119/119 [00:00<00:00, 485.45it/s]\n"
     ]
    },
    {
     "name": "stdout",
     "output_type": "stream",
     "text": [
      "Test Loss: 1.086 | Accuracy: 38.655\n",
      "\n",
      "Epoch: 3\n"
     ]
    },
    {
     "name": "stderr",
     "output_type": "stream",
     "text": [
      "100%|███████████████████████████████████████████████████████████████████████████████| 950/950 [00:05<00:00, 174.19it/s]\n"
     ]
    },
    {
     "name": "stdout",
     "output_type": "stream",
     "text": [
      "Train Loss: 1.094 | Accuracy: 37.368\n"
     ]
    },
    {
     "name": "stderr",
     "output_type": "stream",
     "text": [
      "100%|███████████████████████████████████████████████████████████████████████████████| 119/119 [00:00<00:00, 483.68it/s]\n"
     ]
    },
    {
     "name": "stdout",
     "output_type": "stream",
     "text": [
      "Test Loss: 1.085 | Accuracy: 38.655\n",
      "\n",
      "Epoch: 4\n"
     ]
    },
    {
     "name": "stderr",
     "output_type": "stream",
     "text": [
      "100%|███████████████████████████████████████████████████████████████████████████████| 950/950 [00:05<00:00, 173.07it/s]\n"
     ]
    },
    {
     "name": "stdout",
     "output_type": "stream",
     "text": [
      "Train Loss: 1.091 | Accuracy: 38.632\n"
     ]
    },
    {
     "name": "stderr",
     "output_type": "stream",
     "text": [
      "100%|███████████████████████████████████████████████████████████████████████████████| 119/119 [00:00<00:00, 458.49it/s]\n"
     ]
    },
    {
     "name": "stdout",
     "output_type": "stream",
     "text": [
      "Test Loss: 1.093 | Accuracy: 38.655\n",
      "\n",
      "Epoch: 5\n"
     ]
    },
    {
     "name": "stderr",
     "output_type": "stream",
     "text": [
      "100%|███████████████████████████████████████████████████████████████████████████████| 950/950 [00:05<00:00, 164.98it/s]\n"
     ]
    },
    {
     "name": "stdout",
     "output_type": "stream",
     "text": [
      "Train Loss: 1.081 | Accuracy: 38.632\n"
     ]
    },
    {
     "name": "stderr",
     "output_type": "stream",
     "text": [
      "100%|███████████████████████████████████████████████████████████████████████████████| 119/119 [00:00<00:00, 474.71it/s]\n"
     ]
    },
    {
     "name": "stdout",
     "output_type": "stream",
     "text": [
      "Test Loss: 1.063 | Accuracy: 41.176\n",
      "\n",
      "Epoch: 6\n"
     ]
    },
    {
     "name": "stderr",
     "output_type": "stream",
     "text": [
      "100%|███████████████████████████████████████████████████████████████████████████████| 950/950 [00:05<00:00, 171.65it/s]\n"
     ]
    },
    {
     "name": "stdout",
     "output_type": "stream",
     "text": [
      "Train Loss: 1.071 | Accuracy: 39.684\n"
     ]
    },
    {
     "name": "stderr",
     "output_type": "stream",
     "text": [
      "100%|███████████████████████████████████████████████████████████████████████████████| 119/119 [00:00<00:00, 433.78it/s]\n"
     ]
    },
    {
     "name": "stdout",
     "output_type": "stream",
     "text": [
      "Test Loss: 1.071 | Accuracy: 37.815\n",
      "\n",
      "Epoch: 7\n"
     ]
    },
    {
     "name": "stderr",
     "output_type": "stream",
     "text": [
      "100%|███████████████████████████████████████████████████████████████████████████████| 950/950 [00:05<00:00, 168.48it/s]\n"
     ]
    },
    {
     "name": "stdout",
     "output_type": "stream",
     "text": [
      "Train Loss: 1.069 | Accuracy: 41.684\n"
     ]
    },
    {
     "name": "stderr",
     "output_type": "stream",
     "text": [
      "100%|███████████████████████████████████████████████████████████████████████████████| 119/119 [00:00<00:00, 426.82it/s]\n"
     ]
    },
    {
     "name": "stdout",
     "output_type": "stream",
     "text": [
      "Test Loss: 1.049 | Accuracy: 43.697\n",
      "\n",
      "Epoch: 8\n"
     ]
    },
    {
     "name": "stderr",
     "output_type": "stream",
     "text": [
      "100%|███████████████████████████████████████████████████████████████████████████████| 950/950 [00:05<00:00, 158.52it/s]\n"
     ]
    },
    {
     "name": "stdout",
     "output_type": "stream",
     "text": [
      "Train Loss: 1.052 | Accuracy: 41.895\n"
     ]
    },
    {
     "name": "stderr",
     "output_type": "stream",
     "text": [
      "100%|███████████████████████████████████████████████████████████████████████████████| 119/119 [00:00<00:00, 428.65it/s]\n"
     ]
    },
    {
     "name": "stdout",
     "output_type": "stream",
     "text": [
      "Test Loss: 1.037 | Accuracy: 47.059\n",
      "\n",
      "Epoch: 9\n"
     ]
    },
    {
     "name": "stderr",
     "output_type": "stream",
     "text": [
      "100%|███████████████████████████████████████████████████████████████████████████████| 950/950 [00:05<00:00, 160.12it/s]\n"
     ]
    },
    {
     "name": "stdout",
     "output_type": "stream",
     "text": [
      "Train Loss: 1.058 | Accuracy: 40.211\n"
     ]
    },
    {
     "name": "stderr",
     "output_type": "stream",
     "text": [
      "100%|███████████████████████████████████████████████████████████████████████████████| 119/119 [00:00<00:00, 418.11it/s]\n"
     ]
    },
    {
     "name": "stdout",
     "output_type": "stream",
     "text": [
      "Test Loss: 1.041 | Accuracy: 42.017\n",
      "\n",
      "Epoch: 10\n"
     ]
    },
    {
     "name": "stderr",
     "output_type": "stream",
     "text": [
      "100%|███████████████████████████████████████████████████████████████████████████████| 950/950 [00:05<00:00, 162.99it/s]\n"
     ]
    },
    {
     "name": "stdout",
     "output_type": "stream",
     "text": [
      "Train Loss: 1.051 | Accuracy: 42.842\n"
     ]
    },
    {
     "name": "stderr",
     "output_type": "stream",
     "text": [
      "100%|███████████████████████████████████████████████████████████████████████████████| 119/119 [00:00<00:00, 468.18it/s]\n"
     ]
    },
    {
     "name": "stdout",
     "output_type": "stream",
     "text": [
      "Test Loss: 1.049 | Accuracy: 39.496\n",
      "\n",
      "Epoch: 11\n"
     ]
    },
    {
     "name": "stderr",
     "output_type": "stream",
     "text": [
      "100%|███████████████████████████████████████████████████████████████████████████████| 950/950 [00:05<00:00, 159.94it/s]\n"
     ]
    },
    {
     "name": "stdout",
     "output_type": "stream",
     "text": [
      "Train Loss: 1.043 | Accuracy: 45.579\n"
     ]
    },
    {
     "name": "stderr",
     "output_type": "stream",
     "text": [
      "100%|███████████████████████████████████████████████████████████████████████████████| 119/119 [00:00<00:00, 447.48it/s]\n"
     ]
    },
    {
     "name": "stdout",
     "output_type": "stream",
     "text": [
      "Test Loss: 1.079 | Accuracy: 42.857\n",
      "\n",
      "Epoch: 12\n"
     ]
    },
    {
     "name": "stderr",
     "output_type": "stream",
     "text": [
      "100%|███████████████████████████████████████████████████████████████████████████████| 950/950 [00:05<00:00, 165.05it/s]\n"
     ]
    },
    {
     "name": "stdout",
     "output_type": "stream",
     "text": [
      "Train Loss: 1.043 | Accuracy: 45.579\n"
     ]
    },
    {
     "name": "stderr",
     "output_type": "stream",
     "text": [
      "100%|███████████████████████████████████████████████████████████████████████████████| 119/119 [00:00<00:00, 424.60it/s]\n"
     ]
    },
    {
     "name": "stdout",
     "output_type": "stream",
     "text": [
      "Test Loss: 1.035 | Accuracy: 42.017\n",
      "\n",
      "Epoch: 13\n"
     ]
    },
    {
     "name": "stderr",
     "output_type": "stream",
     "text": [
      "100%|███████████████████████████████████████████████████████████████████████████████| 950/950 [00:05<00:00, 165.06it/s]\n"
     ]
    },
    {
     "name": "stdout",
     "output_type": "stream",
     "text": [
      "Train Loss: 1.036 | Accuracy: 45.684\n"
     ]
    },
    {
     "name": "stderr",
     "output_type": "stream",
     "text": [
      "100%|███████████████████████████████████████████████████████████████████████████████| 119/119 [00:00<00:00, 448.38it/s]\n"
     ]
    },
    {
     "name": "stdout",
     "output_type": "stream",
     "text": [
      "Test Loss: 1.042 | Accuracy: 39.496\n",
      "\n",
      "Epoch: 14\n"
     ]
    },
    {
     "name": "stderr",
     "output_type": "stream",
     "text": [
      "100%|███████████████████████████████████████████████████████████████████████████████| 950/950 [00:05<00:00, 165.13it/s]\n"
     ]
    },
    {
     "name": "stdout",
     "output_type": "stream",
     "text": [
      "Train Loss: 1.029 | Accuracy: 48.421\n"
     ]
    },
    {
     "name": "stderr",
     "output_type": "stream",
     "text": [
      "100%|███████████████████████████████████████████████████████████████████████████████| 119/119 [00:00<00:00, 461.30it/s]\n"
     ]
    },
    {
     "name": "stdout",
     "output_type": "stream",
     "text": [
      "Test Loss: 1.033 | Accuracy: 43.697\n",
      "\n",
      "Epoch: 15\n"
     ]
    },
    {
     "name": "stderr",
     "output_type": "stream",
     "text": [
      "100%|███████████████████████████████████████████████████████████████████████████████| 950/950 [00:05<00:00, 164.95it/s]\n"
     ]
    },
    {
     "name": "stdout",
     "output_type": "stream",
     "text": [
      "Train Loss: 1.026 | Accuracy: 47.053\n"
     ]
    },
    {
     "name": "stderr",
     "output_type": "stream",
     "text": [
      "100%|███████████████████████████████████████████████████████████████████████████████| 119/119 [00:00<00:00, 473.97it/s]\n"
     ]
    },
    {
     "name": "stdout",
     "output_type": "stream",
     "text": [
      "Test Loss: 1.119 | Accuracy: 47.059\n",
      "\n",
      "Epoch: 16\n"
     ]
    },
    {
     "name": "stderr",
     "output_type": "stream",
     "text": [
      "100%|███████████████████████████████████████████████████████████████████████████████| 950/950 [00:05<00:00, 162.30it/s]\n"
     ]
    },
    {
     "name": "stdout",
     "output_type": "stream",
     "text": [
      "Train Loss: 1.027 | Accuracy: 47.579\n"
     ]
    },
    {
     "name": "stderr",
     "output_type": "stream",
     "text": [
      "100%|███████████████████████████████████████████████████████████████████████████████| 119/119 [00:00<00:00, 466.59it/s]\n"
     ]
    },
    {
     "name": "stdout",
     "output_type": "stream",
     "text": [
      "Test Loss: 1.042 | Accuracy: 40.336\n",
      "\n",
      "Epoch: 17\n"
     ]
    },
    {
     "name": "stderr",
     "output_type": "stream",
     "text": [
      "100%|███████████████████████████████████████████████████████████████████████████████| 950/950 [00:05<00:00, 166.35it/s]\n"
     ]
    },
    {
     "name": "stdout",
     "output_type": "stream",
     "text": [
      "Train Loss: 1.027 | Accuracy: 45.789\n"
     ]
    },
    {
     "name": "stderr",
     "output_type": "stream",
     "text": [
      "100%|███████████████████████████████████████████████████████████████████████████████| 119/119 [00:00<00:00, 458.16it/s]\n"
     ]
    },
    {
     "name": "stdout",
     "output_type": "stream",
     "text": [
      "Test Loss: 1.035 | Accuracy: 43.697\n",
      "\n",
      "Epoch: 18\n"
     ]
    },
    {
     "name": "stderr",
     "output_type": "stream",
     "text": [
      "100%|███████████████████████████████████████████████████████████████████████████████| 950/950 [00:05<00:00, 165.68it/s]\n"
     ]
    },
    {
     "name": "stdout",
     "output_type": "stream",
     "text": [
      "Train Loss: 1.026 | Accuracy: 47.474\n"
     ]
    },
    {
     "name": "stderr",
     "output_type": "stream",
     "text": [
      "100%|███████████████████████████████████████████████████████████████████████████████| 119/119 [00:00<00:00, 463.03it/s]\n"
     ]
    },
    {
     "name": "stdout",
     "output_type": "stream",
     "text": [
      "Test Loss: 1.035 | Accuracy: 46.218\n",
      "\n",
      "Epoch: 19\n"
     ]
    },
    {
     "name": "stderr",
     "output_type": "stream",
     "text": [
      "100%|███████████████████████████████████████████████████████████████████████████████| 950/950 [00:05<00:00, 164.54it/s]\n"
     ]
    },
    {
     "name": "stdout",
     "output_type": "stream",
     "text": [
      "Train Loss: 1.019 | Accuracy: 48.842\n"
     ]
    },
    {
     "name": "stderr",
     "output_type": "stream",
     "text": [
      "100%|███████████████████████████████████████████████████████████████████████████████| 119/119 [00:00<00:00, 448.92it/s]\n"
     ]
    },
    {
     "name": "stdout",
     "output_type": "stream",
     "text": [
      "Test Loss: 1.030 | Accuracy: 41.176\n",
      "\n",
      "Epoch: 20\n"
     ]
    },
    {
     "name": "stderr",
     "output_type": "stream",
     "text": [
      "100%|███████████████████████████████████████████████████████████████████████████████| 950/950 [00:05<00:00, 167.61it/s]\n"
     ]
    },
    {
     "name": "stdout",
     "output_type": "stream",
     "text": [
      "Train Loss: 1.013 | Accuracy: 49.263\n"
     ]
    },
    {
     "name": "stderr",
     "output_type": "stream",
     "text": [
      "100%|███████████████████████████████████████████████████████████████████████████████| 119/119 [00:00<00:00, 474.10it/s]\n"
     ]
    },
    {
     "name": "stdout",
     "output_type": "stream",
     "text": [
      "Test Loss: 1.056 | Accuracy: 42.017\n",
      "\n",
      "Epoch: 21\n"
     ]
    },
    {
     "name": "stderr",
     "output_type": "stream",
     "text": [
      "100%|███████████████████████████████████████████████████████████████████████████████| 950/950 [00:05<00:00, 164.58it/s]\n"
     ]
    },
    {
     "name": "stdout",
     "output_type": "stream",
     "text": [
      "Train Loss: 1.008 | Accuracy: 46.842\n"
     ]
    },
    {
     "name": "stderr",
     "output_type": "stream",
     "text": [
      "100%|███████████████████████████████████████████████████████████████████████████████| 119/119 [00:00<00:00, 402.42it/s]\n"
     ]
    },
    {
     "name": "stdout",
     "output_type": "stream",
     "text": [
      "Test Loss: 1.031 | Accuracy: 42.857\n",
      "\n",
      "Epoch: 22\n"
     ]
    },
    {
     "name": "stderr",
     "output_type": "stream",
     "text": [
      "100%|███████████████████████████████████████████████████████████████████████████████| 950/950 [00:05<00:00, 160.77it/s]\n"
     ]
    },
    {
     "name": "stdout",
     "output_type": "stream",
     "text": [
      "Train Loss: 1.008 | Accuracy: 47.263\n"
     ]
    },
    {
     "name": "stderr",
     "output_type": "stream",
     "text": [
      "100%|███████████████████████████████████████████████████████████████████████████████| 119/119 [00:00<00:00, 464.89it/s]\n"
     ]
    },
    {
     "name": "stdout",
     "output_type": "stream",
     "text": [
      "Test Loss: 1.062 | Accuracy: 46.218\n",
      "\n",
      "Epoch: 23\n"
     ]
    },
    {
     "name": "stderr",
     "output_type": "stream",
     "text": [
      "100%|███████████████████████████████████████████████████████████████████████████████| 950/950 [00:05<00:00, 166.66it/s]\n"
     ]
    },
    {
     "name": "stdout",
     "output_type": "stream",
     "text": [
      "Train Loss: 1.012 | Accuracy: 48.842\n"
     ]
    },
    {
     "name": "stderr",
     "output_type": "stream",
     "text": [
      "100%|███████████████████████████████████████████████████████████████████████████████| 119/119 [00:00<00:00, 470.23it/s]\n"
     ]
    },
    {
     "name": "stdout",
     "output_type": "stream",
     "text": [
      "Test Loss: 1.039 | Accuracy: 44.538\n",
      "\n",
      "Epoch: 24\n"
     ]
    },
    {
     "name": "stderr",
     "output_type": "stream",
     "text": [
      "100%|███████████████████████████████████████████████████████████████████████████████| 950/950 [00:05<00:00, 167.04it/s]\n"
     ]
    },
    {
     "name": "stdout",
     "output_type": "stream",
     "text": [
      "Train Loss: 0.997 | Accuracy: 49.789\n"
     ]
    },
    {
     "name": "stderr",
     "output_type": "stream",
     "text": [
      "100%|███████████████████████████████████████████████████████████████████████████████| 119/119 [00:00<00:00, 476.28it/s]\n"
     ]
    },
    {
     "name": "stdout",
     "output_type": "stream",
     "text": [
      "Test Loss: 1.023 | Accuracy: 43.697\n",
      "\n",
      "Epoch: 25\n"
     ]
    },
    {
     "name": "stderr",
     "output_type": "stream",
     "text": [
      "100%|███████████████████████████████████████████████████████████████████████████████| 950/950 [00:05<00:00, 165.11it/s]\n"
     ]
    },
    {
     "name": "stdout",
     "output_type": "stream",
     "text": [
      "Train Loss: 0.995 | Accuracy: 49.053\n"
     ]
    },
    {
     "name": "stderr",
     "output_type": "stream",
     "text": [
      "100%|███████████████████████████████████████████████████████████████████████████████| 119/119 [00:00<00:00, 479.35it/s]\n"
     ]
    },
    {
     "name": "stdout",
     "output_type": "stream",
     "text": [
      "Test Loss: 1.037 | Accuracy: 47.899\n",
      "\n",
      "Epoch: 26\n"
     ]
    },
    {
     "name": "stderr",
     "output_type": "stream",
     "text": [
      "100%|███████████████████████████████████████████████████████████████████████████████| 950/950 [00:05<00:00, 160.32it/s]\n"
     ]
    },
    {
     "name": "stdout",
     "output_type": "stream",
     "text": [
      "Train Loss: 0.987 | Accuracy: 50.842\n"
     ]
    },
    {
     "name": "stderr",
     "output_type": "stream",
     "text": [
      "100%|███████████████████████████████████████████████████████████████████████████████| 119/119 [00:00<00:00, 420.49it/s]\n"
     ]
    },
    {
     "name": "stdout",
     "output_type": "stream",
     "text": [
      "Test Loss: 1.046 | Accuracy: 44.538\n",
      "\n",
      "Epoch: 27\n"
     ]
    },
    {
     "name": "stderr",
     "output_type": "stream",
     "text": [
      "100%|███████████████████████████████████████████████████████████████████████████████| 950/950 [00:05<00:00, 160.09it/s]\n"
     ]
    },
    {
     "name": "stdout",
     "output_type": "stream",
     "text": [
      "Train Loss: 0.997 | Accuracy: 46.737\n"
     ]
    },
    {
     "name": "stderr",
     "output_type": "stream",
     "text": [
      "100%|███████████████████████████████████████████████████████████████████████████████| 119/119 [00:00<00:00, 446.77it/s]\n"
     ]
    },
    {
     "name": "stdout",
     "output_type": "stream",
     "text": [
      "Test Loss: 1.051 | Accuracy: 43.697\n",
      "\n",
      "Epoch: 28\n"
     ]
    },
    {
     "name": "stderr",
     "output_type": "stream",
     "text": [
      "100%|███████████████████████████████████████████████████████████████████████████████| 950/950 [00:05<00:00, 170.97it/s]\n"
     ]
    },
    {
     "name": "stdout",
     "output_type": "stream",
     "text": [
      "Train Loss: 0.991 | Accuracy: 51.579\n"
     ]
    },
    {
     "name": "stderr",
     "output_type": "stream",
     "text": [
      "100%|███████████████████████████████████████████████████████████████████████████████| 119/119 [00:00<00:00, 467.86it/s]\n"
     ]
    },
    {
     "name": "stdout",
     "output_type": "stream",
     "text": [
      "Test Loss: 1.079 | Accuracy: 42.857\n",
      "\n",
      "Epoch: 29\n"
     ]
    },
    {
     "name": "stderr",
     "output_type": "stream",
     "text": [
      "100%|███████████████████████████████████████████████████████████████████████████████| 950/950 [00:05<00:00, 165.54it/s]\n"
     ]
    },
    {
     "name": "stdout",
     "output_type": "stream",
     "text": [
      "Train Loss: 0.988 | Accuracy: 50.211\n"
     ]
    },
    {
     "name": "stderr",
     "output_type": "stream",
     "text": [
      "100%|███████████████████████████████████████████████████████████████████████████████| 119/119 [00:00<00:00, 449.51it/s]\n"
     ]
    },
    {
     "name": "stdout",
     "output_type": "stream",
     "text": [
      "Test Loss: 1.055 | Accuracy: 42.857\n",
      "\n",
      "Epoch: 30\n"
     ]
    },
    {
     "name": "stderr",
     "output_type": "stream",
     "text": [
      "100%|███████████████████████████████████████████████████████████████████████████████| 950/950 [00:06<00:00, 156.44it/s]\n"
     ]
    },
    {
     "name": "stdout",
     "output_type": "stream",
     "text": [
      "Train Loss: 0.979 | Accuracy: 49.579\n"
     ]
    },
    {
     "name": "stderr",
     "output_type": "stream",
     "text": [
      "100%|███████████████████████████████████████████████████████████████████████████████| 119/119 [00:00<00:00, 424.59it/s]"
     ]
    },
    {
     "name": "stdout",
     "output_type": "stream",
     "text": [
      "Test Loss: 1.082 | Accuracy: 47.059\n",
      "Train Losses: [1.0969942392800984, 1.0939241913745277, 1.094021969719937, 1.090655310153961, 1.081487930134723, 1.071115386140974, 1.069223765558318, 1.0518032852128931, 1.0581265476130342, 1.0505637136023296, 1.0430259500522363, 1.0430500937586553, 1.0361857782696422, 1.0294822721457795, 1.026060837103348, 1.0274496212444808, 1.0273587284472427, 1.0259541302684105, 1.019152924524326, 1.013458189697642, 1.0078485709075864, 1.0080080372487243, 1.0115093919576, 0.9967451778485586, 0.9947454738165987, 0.9868023733637835, 0.9972910904158887, 0.9913525615750175, 0.9883160705237012, 0.9785525072699315]\n",
      "Train Accuracy: [36.31578947368421, 35.36842105263158, 37.36842105263158, 38.63157894736842, 38.63157894736842, 39.68421052631579, 41.68421052631579, 41.89473684210526, 40.21052631578947, 42.8421052631579, 45.578947368421055, 45.578947368421055, 45.68421052631579, 48.421052631578945, 47.05263157894737, 47.578947368421055, 45.78947368421053, 47.473684210526315, 48.8421052631579, 49.26315789473684, 46.8421052631579, 47.26315789473684, 48.8421052631579, 49.78947368421053, 49.05263157894737, 50.8421052631579, 46.73684210526316, 51.578947368421055, 50.21052631578947, 49.578947368421055]\n",
      "Test Losses: [1.0862913382153552, 1.0859950540446435, 1.0851682244228715, 1.0934114340974503, 1.0625343738483781, 1.0709565096542615, 1.0487230890939216, 1.036825123704782, 1.0414201261616554, 1.0491676135223453, 1.0787482836416789, 1.0347269465442466, 1.0422231737806016, 1.032959939051075, 1.1193364272598458, 1.0420496821904384, 1.0349702384291577, 1.035442452095136, 1.0298913053604735, 1.055957758501798, 1.0314264160995723, 1.0615564339927264, 1.039129193340029, 1.022513833616962, 1.0372410685825748, 1.0457114286783362, 1.0514857258115495, 1.0789472863954657, 1.055189266425221, 1.0824962371662885]\n",
      "Test Accuracy: [38.65546218487395, 38.65546218487395, 38.65546218487395, 38.65546218487395, 41.1764705882353, 37.81512605042017, 43.69747899159664, 47.05882352941177, 42.016806722689076, 39.49579831932773, 42.857142857142854, 42.016806722689076, 39.49579831932773, 43.69747899159664, 47.05882352941177, 40.33613445378151, 43.69747899159664, 46.21848739495798, 41.1764705882353, 42.016806722689076, 42.857142857142854, 46.21848739495798, 44.53781512605042, 43.69747899159664, 47.89915966386555, 44.53781512605042, 43.69747899159664, 42.857142857142854, 42.857142857142854, 47.05882352941177]\n"
     ]
    },
    {
     "name": "stderr",
     "output_type": "stream",
     "text": [
      "\n"
     ]
    }
   ],
   "source": [
    "from tqdm import tqdm\n",
    "\n",
    "\n",
    "train_accu = []\n",
    "train_losses = []\n",
    "eval_losses = []\n",
    "eval_accu = []\n",
    "\n",
    "def train(num_epochs):\n",
    "    print('\\nEpoch: %d' % num_epochs)\n",
    "    model.train()\n",
    "    running_loss = 0\n",
    "    correct = 0\n",
    "    total = 0\n",
    "\n",
    "    for data in tqdm(dataloader):\n",
    "        reduced_matrix = data['coh'].unsqueeze(0).float().to(device)\n",
    "        class_label = data['label'].squeeze().unsqueeze(0).to(torch.long).to(device)\n",
    "        \n",
    "        age = data['age']\n",
    "        \n",
    "        optimizer.zero_grad()\n",
    "        outputs = model(reduced_matrix)\n",
    "        loss = criterion(outputs, class_label)\n",
    "        loss.backward()\n",
    "        optimizer.step()\n",
    "\n",
    "        running_loss += loss.item()\n",
    "\n",
    "        _, predicted = outputs.max(1)\n",
    "        total += class_label.size(0)\n",
    "        correct += predicted.eq(class_label).sum().item()\n",
    "\n",
    "    train_loss = running_loss / len(dataloader.dataset)\n",
    "    accu = 100. * correct / total\n",
    "\n",
    "    train_accu.append(accu)\n",
    "    train_losses.append(train_loss)\n",
    "    print('Train Loss: %.3f | Accuracy: %.3f' % (train_loss, accu))\n",
    "\n",
    "def test(epoch):\n",
    "    model.eval()\n",
    "    running_loss = 0\n",
    "    correct = 0\n",
    "    total = 0\n",
    "\n",
    "    with torch.no_grad():\n",
    "        for data in tqdm(dataloader_val):\n",
    "            reduced_matrix = data['coh'].unsqueeze(0).float().to(device)\n",
    "            class_label = data['label'].squeeze().unsqueeze(0).to(torch.long).to(device)\n",
    "\n",
    "            outputs = model(reduced_matrix)\n",
    "\n",
    "            loss = criterion(outputs, class_label)\n",
    "            running_loss += loss.item()\n",
    "\n",
    "            _, predicted = outputs.max(1)\n",
    "            total += class_label.size(0)\n",
    "            correct += predicted.eq(class_label).sum().item()\n",
    "\n",
    "    test_loss = running_loss / len(dataloader_val.dataset)\n",
    "    accu = 100. * correct / total\n",
    "\n",
    "    eval_losses.append(test_loss)\n",
    "    eval_accu.append(accu)\n",
    "\n",
    "    print('Test Loss: %.3f | Accuracy: %.3f' % (test_loss, accu)) \n",
    "\n",
    "epochs = 30\n",
    "for epoch in range(1, epochs + 1): \n",
    "    train(epoch)\n",
    "    test(epoch)\n",
    "\n",
    "# Imprimir resultados finales\n",
    "print('Train Losses:', train_losses)\n",
    "print('Train Accuracy:', train_accu)\n",
    "print('Test Losses:', eval_losses)\n",
    "print('Test Accuracy:', eval_accu)\n"
   ]
  },
  {
   "cell_type": "code",
   "execution_count": 7,
   "id": "a7c1ca3f",
   "metadata": {},
   "outputs": [],
   "source": [
    "torch.save(model.state_dict(), 'LSTM.pth')"
   ]
  },
  {
   "cell_type": "code",
   "execution_count": null,
   "id": "4924795d",
   "metadata": {},
   "outputs": [],
   "source": []
  }
 ],
 "metadata": {
  "kernelspec": {
   "display_name": "tensorflow",
   "language": "python",
   "name": "tensorflow"
  },
  "language_info": {
   "codemirror_mode": {
    "name": "ipython",
    "version": 3
   },
   "file_extension": ".py",
   "mimetype": "text/x-python",
   "name": "python",
   "nbconvert_exporter": "python",
   "pygments_lexer": "ipython3",
   "version": "3.9.16"
  }
 },
 "nbformat": 4,
 "nbformat_minor": 5
}
